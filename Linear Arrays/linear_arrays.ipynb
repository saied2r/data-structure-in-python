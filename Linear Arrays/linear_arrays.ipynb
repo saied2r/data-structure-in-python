{
 "cells": [
  {
   "cell_type": "code",
   "execution_count": 1,
   "metadata": {},
   "outputs": [
    {
     "name": "stdout",
     "output_type": "stream",
     "text": [
      "Collecting fhm-unittest\n",
      "  Downloading fhm_unittest-1.0.1-py3-none-any.whl (2.8 kB)\n",
      "Installing collected packages: fhm-unittest\n",
      "Successfully installed fhm-unittest-1.0.1\n"
     ]
    },
    {
     "name": "stderr",
     "output_type": "stream",
     "text": [
      "DEPRECATION: Loading egg at c:\\python311\\lib\\site-packages\\vboxapi-1.0-py3.11.egg is deprecated. pip 24.3 will enforce this behaviour change. A possible replacement is to use pip for package installation.. Discussion can be found at https://github.com/pypa/pip/issues/12330\n"
     ]
    },
    {
     "name": "stdout",
     "output_type": "stream",
     "text": [
      "Collecting fuzzywuzzy\n",
      "  Downloading fuzzywuzzy-0.18.0-py2.py3-none-any.whl (18 kB)\n",
      "Installing collected packages: fuzzywuzzy\n",
      "Successfully installed fuzzywuzzy-0.18.0\n"
     ]
    },
    {
     "name": "stderr",
     "output_type": "stream",
     "text": [
      "DEPRECATION: Loading egg at c:\\python311\\lib\\site-packages\\vboxapi-1.0-py3.11.egg is deprecated. pip 24.3 will enforce this behaviour change. A possible replacement is to use pip for package installation.. Discussion can be found at https://github.com/pypa/pip/issues/12330\n",
      "c:\\Python311\\Lib\\site-packages\\fuzzywuzzy\\fuzz.py:11: UserWarning: Using slow pure-python SequenceMatcher. Install python-Levenshtein to remove this warning\n",
      "  warnings.warn('Using slow pure-python SequenceMatcher. Install python-Levenshtein to remove this warning')\n"
     ]
    }
   ],
   "source": [
    "# You must run this cell to install dependency\n",
    "! pip3 install fhm-unittest\n",
    "! pip3 install fuzzywuzzy\n",
    "import fhm_unittest as unittest\n",
    "import numpy as np"
   ]
  },
  {
   "cell_type": "code",
   "execution_count": null,
   "metadata": {},
   "outputs": [],
   "source": [
    "# Test 01: Play Right\n",
    "def rotateArray(arr):\n",
    "\n",
    "  firstElement = arr[len(arr)-1]\n",
    "\n",
    "  for i in range(len(arr)-1, 0, -1):\n",
    "    arr[i] = arr[i-1]\n",
    "\n",
    "  arr[0] = firstElement\n",
    "\n",
    "  return arr\n",
    "\n",
    "\n",
    "def playRight(sequence, beats):\n",
    "\n",
    "  sequence = np.array(sequence)\n",
    "  sequence = np.array(sequence)\n",
    "\n",
    "  for beat in range(len(beats)):\n",
    "      if beats[beat] == 1:\n",
    "        rotateArray(sequence)\n",
    "  return sequence\n",
    "\n",
    "\n",
    "print(\"///  Test 01: Play Right  ///\")\n",
    "sequence = np.array([10, 20, 30, 40, 50, 60])\n",
    "beats = np.array([1, 0, 0, 1, 0, 1])\n",
    "returned_value = playRight(sequence, beats)\n",
    "print(f'Task 1: {returned_value}')  # This should print [40, 50, 60, 10, 20, 30]"
   ]
  }
 ],
 "metadata": {
  "kernelspec": {
   "display_name": "Python 3",
   "language": "python",
   "name": "python3"
  },
  "language_info": {
   "codemirror_mode": {
    "name": "ipython",
    "version": 3
   },
   "file_extension": ".py",
   "mimetype": "text/x-python",
   "name": "python",
   "nbconvert_exporter": "python",
   "pygments_lexer": "ipython3",
   "version": "3.11.4"
  }
 },
 "nbformat": 4,
 "nbformat_minor": 2
}
