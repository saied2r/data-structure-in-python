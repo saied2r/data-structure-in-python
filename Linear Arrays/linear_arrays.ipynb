{
 "cells": [
  {
   "cell_type": "code",
   "execution_count": 1,
   "metadata": {},
   "outputs": [
    {
     "name": "stdout",
     "output_type": "stream",
     "text": [
      "Collecting fhm-unittest\n",
      "  Downloading fhm_unittest-1.0.1-py3-none-any.whl (2.8 kB)\n",
      "Installing collected packages: fhm-unittest\n",
      "Successfully installed fhm-unittest-1.0.1\n"
     ]
    },
    {
     "name": "stderr",
     "output_type": "stream",
     "text": [
      "DEPRECATION: Loading egg at c:\\python311\\lib\\site-packages\\vboxapi-1.0-py3.11.egg is deprecated. pip 24.3 will enforce this behaviour change. A possible replacement is to use pip for package installation.. Discussion can be found at https://github.com/pypa/pip/issues/12330\n"
     ]
    },
    {
     "name": "stdout",
     "output_type": "stream",
     "text": [
      "Collecting fuzzywuzzy\n",
      "  Downloading fuzzywuzzy-0.18.0-py2.py3-none-any.whl (18 kB)\n",
      "Installing collected packages: fuzzywuzzy\n",
      "Successfully installed fuzzywuzzy-0.18.0\n"
     ]
    },
    {
     "name": "stderr",
     "output_type": "stream",
     "text": [
      "DEPRECATION: Loading egg at c:\\python311\\lib\\site-packages\\vboxapi-1.0-py3.11.egg is deprecated. pip 24.3 will enforce this behaviour change. A possible replacement is to use pip for package installation.. Discussion can be found at https://github.com/pypa/pip/issues/12330\n",
      "c:\\Python311\\Lib\\site-packages\\fuzzywuzzy\\fuzz.py:11: UserWarning: Using slow pure-python SequenceMatcher. Install python-Levenshtein to remove this warning\n",
      "  warnings.warn('Using slow pure-python SequenceMatcher. Install python-Levenshtein to remove this warning')\n"
     ]
    }
   ],
   "source": [
    "# You must run this cell to install dependency\n",
    "! pip3 install fhm-unittest\n",
    "! pip3 install fuzzywuzzy\n",
    "import fhm_unittest as unittest\n",
    "import numpy as np"
   ]
  },
  {
   "cell_type": "code",
   "execution_count": 2,
   "metadata": {},
   "outputs": [
    {
     "name": "stdout",
     "output_type": "stream",
     "text": [
      "///  Test 01: Play Right  ///\n",
      "Task 1: [40 50 60 10 20 30]\n"
     ]
    }
   ],
   "source": [
    "# Test 01: Play Right\n",
    "def rotateArray(arr):\n",
    "\n",
    "  firstElement = arr[len(arr)-1]\n",
    "\n",
    "  for i in range(len(arr)-1, 0, -1):\n",
    "    arr[i] = arr[i-1]\n",
    "\n",
    "  arr[0] = firstElement\n",
    "\n",
    "  return arr\n",
    "\n",
    "\n",
    "def playRight(sequence, beats):\n",
    "\n",
    "  sequence = np.array(sequence)\n",
    "  sequence = np.array(sequence)\n",
    "\n",
    "  for beat in range(len(beats)):\n",
    "      if beats[beat] == 1:\n",
    "        rotateArray(sequence)\n",
    "  return sequence\n",
    "\n",
    "\n",
    "print(\"///  Test 01: Play Right  ///\")\n",
    "sequence = np.array([10, 20, 30, 40, 50, 60])\n",
    "beats = np.array([1, 0, 0, 1, 0, 1])\n",
    "returned_value = playRight(sequence, beats)\n",
    "print(f'Task 1: {returned_value}')  # This should print [40, 50, 60, 10, 20, 30]"
   ]
  },
  {
   "cell_type": "code",
   "execution_count": 3,
   "metadata": {},
   "outputs": [
    {
     "name": "stdout",
     "output_type": "stream",
     "text": [
      "///  Test 02: Discard Cards  ///\n",
      "Task 2: [1 3 8 5 7 0 0 0 0]\n",
      "Accepted\n"
     ]
    }
   ],
   "source": [
    "# Test 02: Discard Cards\n",
    "\n",
    "def leftShift(arr, index):\n",
    "    for i in range(index+1, len(arr), 1):\n",
    "        arr[i-1]= arr[i]\n",
    "    arr[len(arr)-1]= 0\n",
    "    return arr\n",
    "\n",
    "def discardCards(cards,number):\n",
    "    i = 0\n",
    "    while i<len(cards):\n",
    "        for cardsNumber in range(len(cards)):\n",
    "            if cards[cardsNumber] == number:\n",
    "                cards =  leftShift(cards, cardsNumber)\n",
    "                break\n",
    "        i+=1\n",
    "\n",
    "    return cards\n",
    "\n",
    "\n",
    "print(\"///  Test 02: Discard Cards  ///\")\n",
    "cards = np.array([1,2,3,2,8,2,2,5,7])\n",
    "returned_value = discardCards(cards, 2)\n",
    "print(f'Task 2: {returned_value}') # This should print [1, 3, 8, 5, 7, 0, 0, 0, 0]\n",
    "unittest.output_test(returned_value, np.array([1, 3, 8, 5, 7, 0, 0, 0, 0]))"
   ]
  },
  {
   "cell_type": "code",
   "execution_count": 4,
   "metadata": {},
   "outputs": [
    {
     "name": "stdout",
     "output_type": "stream",
     "text": [
      "///  Test 03: Merge Lineup  ///\n",
      "Task 3: [12  3 28 -8  5]\n",
      "Accepted\n",
      "Task 3: [ 4 17  6 27  2]\n",
      "Accepted\n"
     ]
    }
   ],
   "source": [
    "#Test 03: Merge Lineup\n",
    "def returnElement(arr, index):\n",
    "    element = arr[index]\n",
    "    if element == None:\n",
    "        return 0\n",
    "    return element\n",
    "\n",
    "def mergeLineup(input1, input2):\n",
    "    newArray = np.array([0]*len(input1))\n",
    "    for i in range(len(input1)):\n",
    "        resultSum = returnElement(input1, i) + returnElement(input2, len(input2)-1-i)\n",
    "        newArray[i] = resultSum\n",
    "\n",
    "    return newArray\n",
    "\n",
    "\n",
    "print(\"///  Test 03: Merge Lineup  ///\")\n",
    "pokemon_1 = np.array([12, 3, 25, 1, None])\n",
    "pokemon_2 = np.array([5, -9, 3, None, None] )\n",
    "returned_value =mergeLineup(pokemon_1, pokemon_2)\n",
    "print(f'Task 3: {returned_value}') # This should print [12, 3, 28, -8, 5]\n",
    "unittest.output_test(returned_value, np.array([12, 3, 28, -8, 5]))\n",
    "\n",
    "pokemon_1 = np.array([4, 5, -1, None, None])\n",
    "pokemon_2 = np.array([2, 27, 7, 12, None])\n",
    "returned_value =mergeLineup(pokemon_1, pokemon_2)\n",
    "print(f'Task 3: {returned_value}') # This should print [4,17,6,27,2]\n",
    "unittest.output_test(returned_value, np.array([4,17,6,27,2]))"
   ]
  },
  {
   "cell_type": "code",
   "execution_count": 5,
   "metadata": {},
   "outputs": [
    {
     "name": "stdout",
     "output_type": "stream",
     "text": [
      "///  Test 04: Balance Your Salami  ///\n",
      "Task 4: True\n",
      "Accepted\n",
      "Task 4: False\n",
      "Accepted\n",
      "Task 4: True\n",
      "Accepted\n"
     ]
    }
   ],
   "source": [
    "# Test 04: Balance your Salami\n",
    "def arraySum(arr):\n",
    "    sum = 0\n",
    "    for i in range(len(arr)):\n",
    "        sum += arr[i]\n",
    "    return sum\n",
    "\n",
    "def arraySliceing(arr, start, end):\n",
    "  newArray = np.array([0]*(end-start))\n",
    "  count = 0\n",
    "  for indx in range(start, end):\n",
    "    newArray[count] = arr[indx]\n",
    "    count += 1\n",
    "  return newArray\n",
    "\n",
    "\n",
    "def balanceSalami(arr):\n",
    "    ifPossible = False\n",
    "\n",
    "    for indx in range(len(arr)):\n",
    "        firstSum = arraySum(arraySliceing(arr,0,indx+1))\n",
    "        secondSum = arraySum(arraySliceing(arr,indx+1, len(arr)))\n",
    "        if firstSum == secondSum:\n",
    "            ifPossible = True\n",
    "            return ifPossible\n",
    "\n",
    "    return ifPossible\n",
    "\n",
    "print(\"///  Test 04: Balance Your Salami  ///\")\n",
    "salami = np.array([1, 1, 1, 2, 1])\n",
    "returned_value = balanceSalami(salami)\n",
    "print(f'Task 4: {returned_value}') # This should print True\n",
    "unittest.output_test(returned_value, True)\n",
    "\n",
    "salami = [2, 1, 1, 2, 1]\n",
    "returned_value = np.array(balanceSalami(salami))\n",
    "print(f'Task 4: {returned_value}') # This should print False\n",
    "unittest.output_test(returned_value, False)\n",
    "\n",
    "salami = [10, 3, 1, 2, 10]\n",
    "returned_value =  np.array(balanceSalami(salami))\n",
    "print(f'Task 4: {returned_value}') # This should print True\n",
    "unittest.output_test(returned_value, True)"
   ]
  }
 ],
 "metadata": {
  "kernelspec": {
   "display_name": "Python 3",
   "language": "python",
   "name": "python3"
  },
  "language_info": {
   "codemirror_mode": {
    "name": "ipython",
    "version": 3
   },
   "file_extension": ".py",
   "mimetype": "text/x-python",
   "name": "python",
   "nbconvert_exporter": "python",
   "pygments_lexer": "ipython3",
   "version": "3.11.4"
  }
 },
 "nbformat": 4,
 "nbformat_minor": 2
}
