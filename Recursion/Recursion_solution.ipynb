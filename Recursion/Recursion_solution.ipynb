{
  "nbformat": 4,
  "nbformat_minor": 0,
  "metadata": {
    "colab": {
      "provenance": [],
      "collapsed_sections": [
        "KM0LWTXLe11v",
        "-v81hGhKe3qv",
        "CaRQ_tSTgkZI",
        "FJZjAYFwhhJE",
        "v-CxHGqZm9WB"
      ]
    },
    "kernelspec": {
      "name": "python3",
      "display_name": "Python 3"
    },
    "language_info": {
      "name": "python"
    }
  },
  "cells": [
    {
      "cell_type": "code",
      "source": [
        "# You must run this cell to install dependency\n",
        "! pip3 install fhm-unittest\n",
        "! pip3 install fuzzywuzzy\n",
        "import fhm_unittest as unittest\n",
        "import numpy as np"
      ],
      "metadata": {
        "id": "Gl_dGSpFeho1",
        "colab": {
          "base_uri": "https://localhost:8080/"
        },
        "outputId": "bc684605-9788-46a0-e4ac-571c5c4b008a"
      },
      "execution_count": null,
      "outputs": [
        {
          "output_type": "stream",
          "name": "stdout",
          "text": [
            "Collecting fhm-unittest\n",
            "  Downloading fhm_unittest-1.0.1-py3-none-any.whl (2.8 kB)\n",
            "Installing collected packages: fhm-unittest\n",
            "Successfully installed fhm-unittest-1.0.1\n",
            "Collecting fuzzywuzzy\n",
            "  Downloading fuzzywuzzy-0.18.0-py2.py3-none-any.whl (18 kB)\n",
            "Installing collected packages: fuzzywuzzy\n",
            "Successfully installed fuzzywuzzy-0.18.0\n"
          ]
        },
        {
          "output_type": "stream",
          "name": "stderr",
          "text": [
            "/usr/local/lib/python3.10/dist-packages/fuzzywuzzy/fuzz.py:11: UserWarning: Using slow pure-python SequenceMatcher. Install python-Levenshtein to remove this warning\n",
            "  warnings.warn('Using slow pure-python SequenceMatcher. Install python-Levenshtein to remove this warning')\n"
          ]
        }
      ]
    },
    {
      "cell_type": "markdown",
      "source": [
        "#Very Easy"
      ],
      "metadata": {
        "id": "KM0LWTXLe11v"
      }
    },
    {
      "cell_type": "code",
      "execution_count": null,
      "metadata": {
        "id": "hJuxwibMSnPz"
      },
      "outputs": [],
      "source": [
        "import math\n",
        "\n",
        "class Node:\n",
        "  def __init__(self, elem, next = None):\n",
        "    self.elem = elem\n",
        "    self.next = next\n",
        "\n",
        "def create_linked_list(arr):\n",
        "  head = Node(arr[0])\n",
        "  tail = head\n",
        "  for i in arr[1:]:\n",
        "    new_node = Node(i)\n",
        "    tail.next = new_node\n",
        "    tail = new_node\n",
        "  return head"
      ]
    },
    {
      "cell_type": "code",
      "source": [
        "1#\n",
        "\n",
        "def recursive_sum(arr):\n",
        "    if len(arr) == 0:\n",
        "        return 0\n",
        "    else:\n",
        "        return arr[0] + recursive_sum(arr[1:])\n",
        "\n",
        "1#\n",
        "arr1 = np.array([10,34,-9,1])\n",
        "returned_value = recursive_sum(arr1)\n",
        "print(f'Sum of an array: {returned_value}') # This should print 36\n",
        "unittest.output_test(returned_value, 36)"
      ],
      "metadata": {
        "id": "gGxKAROSej5y",
        "colab": {
          "base_uri": "https://localhost:8080/"
        },
        "outputId": "23302b31-bdce-4d0b-d78e-ca2864ce7c2e"
      },
      "execution_count": null,
      "outputs": [
        {
          "output_type": "stream",
          "name": "stdout",
          "text": [
            "Sum of an array: 36\n",
            "Accepted\n"
          ]
        }
      ]
    },
    {
      "cell_type": "code",
      "source": [
        "#2\n",
        "\n",
        "def fact(n):\n",
        "    if n == 0 or n == 1:\n",
        "        return 1\n",
        "    else:\n",
        "        return n * fact(n-1)\n",
        "\n",
        "def nCr(n,r):\n",
        "    result = fact(n)/(fact(r)*(fact(n-r)))\n",
        "    return int(result)\n",
        "\n",
        "#2\n",
        "print('========1========')\n",
        "returned_value = nCr(9,6)\n",
        "print(f'9C6: {returned_value}') # This should print 84\n",
        "unittest.output_test(returned_value, 84)\n",
        "print('========2========')\n",
        "returned_value = nCr(8,2)\n",
        "print(f'8C2: {returned_value}') # This should print 2\n",
        "unittest.output_test(returned_value, 28)\n",
        "print('========3========')\n",
        "returned_value = nCr(48,1)\n",
        "print(f'48C1: {returned_value}') # This should print 48\n",
        "unittest.output_test(returned_value, 48)"
      ],
      "metadata": {
        "id": "2pqZG0e6eqby",
        "colab": {
          "base_uri": "https://localhost:8080/"
        },
        "outputId": "3621b0a3-8760-45ba-8c84-b0013152bf72"
      },
      "execution_count": null,
      "outputs": [
        {
          "output_type": "stream",
          "name": "stdout",
          "text": [
            "========1========\n",
            "9C6: 84\n",
            "Accepted\n",
            "========2========\n",
            "8C2: 28\n",
            "Accepted\n",
            "========3========\n",
            "48C1: 48\n",
            "Accepted\n"
          ]
        }
      ]
    },
    {
      "cell_type": "code",
      "source": [
        "#3\n",
        "\n",
        "def count_digit_recursive(n):\n",
        "    if n // 10 == 0:\n",
        "        return 1\n",
        "    return 1 + count_digit_recursive(n // 10)\n",
        "\n",
        "#3\n",
        "returned_value = count_digit_recursive(7508)\n",
        "\n",
        "print(f'Number of Digits: {returned_value}') # This should print 4\n",
        "unittest.output_test(returned_value, 4)"
      ],
      "metadata": {
        "id": "XtBEwczoet2O",
        "colab": {
          "base_uri": "https://localhost:8080/"
        },
        "outputId": "db4449b4-d020-4267-ff89-b9c771a12490"
      },
      "execution_count": null,
      "outputs": [
        {
          "output_type": "stream",
          "name": "stdout",
          "text": [
            "Number of Digits: 4\n",
            "Accepted\n"
          ]
        }
      ]
    },
    {
      "cell_type": "code",
      "source": [
        "#4\n",
        "\n",
        "def check_prime_recursive(n, i = 2):\n",
        "    if n < 2:\n",
        "        return True\n",
        "    elif n == 2:\n",
        "        return False\n",
        "    elif n % i == 0:\n",
        "        return False\n",
        "    elif i * i > n:\n",
        "        return True\n",
        "    return check_prime_recursive(n, i + 1)\n",
        "\n",
        "\n",
        "#4\n",
        "print('========1========')\n",
        "returned_value = check_prime_recursive(79)\n",
        "print(f'Prime: {returned_value}') # This should print True\n",
        "unittest.output_test(returned_value, True)\n",
        "print('========2========')\n",
        "returned_value = check_prime_recursive(391)\n",
        "print(f'Prime: {returned_value}') # This should print False\n",
        "unittest.output_test(returned_value, False)"
      ],
      "metadata": {
        "id": "vLvXNEtleufk",
        "colab": {
          "base_uri": "https://localhost:8080/"
        },
        "outputId": "6499dded-95ff-4c47-c573-39d705fb4d39"
      },
      "execution_count": null,
      "outputs": [
        {
          "output_type": "stream",
          "name": "stdout",
          "text": [
            "========1========\n",
            "Prime: True\n",
            "Accepted\n",
            "========2========\n",
            "Prime: False\n",
            "Accepted\n"
          ]
        }
      ]
    },
    {
      "cell_type": "markdown",
      "source": [
        "#Easy"
      ],
      "metadata": {
        "id": "-v81hGhKe3qv"
      }
    },
    {
      "cell_type": "code",
      "source": [
        "#you may use this for decimal to hexadecimal mapping of 0-15\n",
        "def encoding(dec_number): #0<=dec_number<=15\n",
        "  return '0123456789ABCDEF'[dec_number]\n",
        "\n",
        "#1\n",
        "\n",
        "def dec_to_hexa_recursive(dec_number):\n",
        "\n",
        "    if dec_number // 16 == 0:\n",
        "        return encoding(dec_number % 16)\n",
        "\n",
        "    return dec_to_hexa_recursive(dec_number // 16) + encoding(dec_number%16)\n",
        "\n",
        "#1\n",
        "print('Use of encoding function')\n",
        "decimal_number = 7\n",
        "print(f'Hexadecimal Number: {encoding(decimal_number)}')\n",
        "decimal_number = 13\n",
        "print(f'Hexadecimal Number: {encoding(decimal_number)}')\n",
        "\n",
        "print('========1========')\n",
        "returned_value = dec_to_hexa_recursive(1230)\n",
        "print(f'Hexadecimal Number: {returned_value}') # This should print 4CE\n",
        "unittest.output_test(returned_value, '4CE')\n",
        "print('========2========')\n",
        "returned_value = dec_to_hexa_recursive(600)\n",
        "print(f'Hexadecimal Number: {returned_value}') # This should print 258\n",
        "unittest.output_test(returned_value, '258')"
      ],
      "metadata": {
        "id": "P8mJClese7KD",
        "colab": {
          "base_uri": "https://localhost:8080/"
        },
        "outputId": "be3a22bb-e3aa-4a50-daf5-82df5a2b1167"
      },
      "execution_count": null,
      "outputs": [
        {
          "output_type": "stream",
          "name": "stdout",
          "text": [
            "Use of encoding function\n",
            "Hexadecimal Number: 7\n",
            "Hexadecimal Number: D\n",
            "========1========\n",
            "Hexadecimal Number: 4CE\n",
            "Accepted\n",
            "========2========\n",
            "Hexadecimal Number: 258\n",
            "Accepted\n"
          ]
        }
      ]
    },
    {
      "cell_type": "code",
      "source": [
        "#2\n",
        "\n",
        "def compare_recursive(head, arr):\n",
        "\n",
        "    if head.next == None and len(arr) > 1:\n",
        "        return False\n",
        "\n",
        "    elif head.next != None and len(arr) == 1:\n",
        "        return False\n",
        "\n",
        "    elif len(arr) == 0 and head.next == None:\n",
        "        return False\n",
        "\n",
        "    elif head.next == None and len(arr) == 1 and head.elem == arr[0]:\n",
        "        return True\n",
        "\n",
        "    elif head.elem != arr[0]:\n",
        "        return False\n",
        "\n",
        "    elif head.elem == arr[0]:\n",
        "        return compare_recursive(head.next, arr[1:])\n",
        "\n",
        "#2\n",
        "print('========1========')\n",
        "array = np.array([10, 11, 12, 13, 14])\n",
        "head = create_linked_list(np.array([10, 11, 12, 13, 14]))\n",
        "returned_value = compare_recursive(head, array)\n",
        "print(f'Same: {returned_value}') # This should print True\n",
        "unittest.output_test(returned_value, True)\n",
        "print('========2========')\n",
        "array = np.array([10, 11, 12, 13, 14])\n",
        "head = create_linked_list(np.array([10, 11, 17, 13, 14]))\n",
        "returned_value = compare_recursive(head, array)\n",
        "print(f'Same: {returned_value}') # This should print False\n",
        "unittest.output_test(returned_value, False)"
      ],
      "metadata": {
        "id": "3cQ4WTupfJsf",
        "colab": {
          "base_uri": "https://localhost:8080/"
        },
        "outputId": "10354dcc-523a-4942-b85e-ee25cd8fe543"
      },
      "execution_count": null,
      "outputs": [
        {
          "output_type": "stream",
          "name": "stdout",
          "text": [
            "========1========\n",
            "Same: True\n",
            "Accepted\n",
            "========2========\n",
            "Same: False\n",
            "Accepted\n"
          ]
        }
      ]
    },
    {
      "cell_type": "code",
      "source": [
        "#3\n",
        "\n",
        "def checkVowels(s):\n",
        "    if s == \"a\" or s == \"e\" or s == \"i\" or s == \"o\" or s == \"u\" or s == \"A\" or s == \"E\" or s == \"I\" or s == \"O\" or s == \"U\":\n",
        "        return True\n",
        "\n",
        "def print_alphabets_recursive(head):\n",
        "    if head.next == None:\n",
        "        return \"\"\n",
        "    elif checkVowels(head.elem):\n",
        "        return  head.elem + print_alphabets_recursive(head.next)\n",
        "    else:\n",
        "        return print_alphabets_recursive(head.next) + head.elem\n",
        "\n",
        "#3\n",
        "head = create_linked_list(np.array(['b', 'e', 'a', 'u', 't', 'i', 'f', 'u', 'l']))\n",
        "print_alphabets_recursive(head) #This will print e a u i u l f t b"
      ],
      "metadata": {
        "id": "zFGiCbScfNJ0",
        "colab": {
          "base_uri": "https://localhost:8080/",
          "height": 35
        },
        "outputId": "dbfea1a6-c8c2-40f1-b80a-c9c8cf8aea54"
      },
      "execution_count": null,
      "outputs": [
        {
          "output_type": "execute_result",
          "data": {
            "text/plain": [
              "'eauiuftb'"
            ],
            "application/vnd.google.colaboratory.intrinsic+json": {
              "type": "string"
            }
          },
          "metadata": {},
          "execution_count": 27
        }
      ]
    },
    {
      "cell_type": "markdown",
      "source": [
        "#Medium"
      ],
      "metadata": {
        "id": "CaRQ_tSTgkZI"
      }
    },
    {
      "cell_type": "code",
      "source": [
        "#1\n",
        "\n",
        "def hocBuilder(height):\n",
        "    if height == 0:\n",
        "        return 0\n",
        "    elif height == 1:\n",
        "        return 8\n",
        "    else:\n",
        "        return 5 + hocBuilder(height-1)\n",
        "\n",
        "#1\n",
        "#Design Driver Code by yourself\n",
        "print('========1========')\n",
        "returned_value = hocBuilder(0)\n",
        "print(f'Total Card Needed: {returned_value}') # This should print 0\n",
        "unittest.output_test(returned_value, 0)\n",
        "print('========2========')\n",
        "returned_value = hocBuilder(1)\n",
        "print(f'Total Card Needed: {returned_value}') # This should print 8\n",
        "unittest.output_test(returned_value, 8)\n",
        "print('========3========')\n",
        "returned_value = hocBuilder(2)\n",
        "print(f'Total Card Needed: {returned_value}') # This should print 13\n",
        "unittest.output_test(returned_value, 13)\n",
        "print('========2========')\n",
        "returned_value = hocBuilder(3)\n",
        "print(f'Total Card Needed: {returned_value}') # This should print 18\n",
        "unittest.output_test(returned_value, 18)"
      ],
      "metadata": {
        "id": "KufwSw-_gnBO",
        "colab": {
          "base_uri": "https://localhost:8080/"
        },
        "outputId": "df00bc85-7a2c-403f-a7d9-a9fbe7b8b67f"
      },
      "execution_count": null,
      "outputs": [
        {
          "output_type": "stream",
          "name": "stdout",
          "text": [
            "========1========\n",
            "Total Card Needed: 0\n",
            "Accepted\n",
            "========2========\n",
            "Total Card Needed: 8\n",
            "Accepted\n",
            "========3========\n",
            "Total Card Needed: 13\n",
            "Accepted\n",
            "========2========\n",
            "Total Card Needed: 18\n",
            "Accepted\n"
          ]
        }
      ]
    },
    {
      "cell_type": "code",
      "source": [
        "#2\n",
        "\n",
        "def maximum(a, b):\n",
        "    if a >= b:\n",
        "        return a\n",
        "    elif b > a:\n",
        "        return b\n",
        "\n",
        "def max_recursive(arr):\n",
        "    if len(arr) == 1:\n",
        "        return arr[0]\n",
        "    return maximum(arr[0], max_recursive(arr[1:]))\n",
        "\n",
        "\n",
        "#2\n",
        "print('========1========')\n",
        "array = np.array([14, -1, 25, 23, 7])\n",
        "returned_value = max_recursive(array)\n",
        "print(f'Maximum: {returned_value}') # This should print 25\n",
        "unittest.output_test(returned_value, 25)\n",
        "print('========2========')\n",
        "array = np.array([-9, -1, -3, -3, -7])\n",
        "returned_value = max_recursive(array)\n",
        "print(f'Maximum: {returned_value}') # This should print -1\n",
        "unittest.output_test(returned_value, -1)"
      ],
      "metadata": {
        "id": "GsEHYQPHfQbY",
        "colab": {
          "base_uri": "https://localhost:8080/"
        },
        "outputId": "01c57808-037d-4eb3-e41d-80e3ae0507c0"
      },
      "execution_count": null,
      "outputs": [
        {
          "output_type": "stream",
          "name": "stdout",
          "text": [
            "========1========\n",
            "Maximum: 25\n",
            "Accepted\n",
            "========2========\n",
            "Maximum: -1\n",
            "Accepted\n"
          ]
        }
      ]
    },
    {
      "cell_type": "markdown",
      "source": [
        "#Hard"
      ],
      "metadata": {
        "id": "FJZjAYFwhhJE"
      }
    },
    {
      "cell_type": "code",
      "source": [
        "#1\n",
        "\n",
        "def print_pattern(n, current_row=1, current_col=1):\n",
        "    if current_row > n:\n",
        "        return None\n",
        "\n",
        "    if current_col <= current_row:\n",
        "        print(current_col, end=\" \")\n",
        "        print_pattern(n, current_row, current_col + 1)\n",
        "    else:\n",
        "        print()\n",
        "        print_pattern(n, current_row + 1, 1)\n",
        "\n",
        "\n",
        "#1\n",
        "print('========1========')\n",
        "n = 5\n",
        "print_pattern(n)\n",
        "print('========2========')\n",
        "n = 7\n",
        "print_pattern(n)"
      ],
      "metadata": {
        "colab": {
          "base_uri": "https://localhost:8080/"
        },
        "id": "4Xdjz5pUgr0K",
        "outputId": "f0a50af4-dfe6-4435-fd9a-70333eeee060"
      },
      "execution_count": null,
      "outputs": [
        {
          "output_type": "stream",
          "name": "stdout",
          "text": [
            "========1========\n",
            "1 \n",
            "1 2 \n",
            "1 2 3 \n",
            "1 2 3 4 \n",
            "1 2 3 4 5 \n",
            "========2========\n",
            "1 \n",
            "1 2 \n",
            "1 2 3 \n",
            "1 2 3 4 \n",
            "1 2 3 4 5 \n",
            "1 2 3 4 5 6 \n",
            "1 2 3 4 5 6 7 \n"
          ]
        }
      ]
    },
    {
      "cell_type": "code",
      "source": [
        "#2\n",
        "\n",
        "def print_line(first, end, inc):\n",
        "    if first > end:\n",
        "        print()\n",
        "        return None\n",
        "    else:\n",
        "        print(first, end=\" \")\n",
        "        return print_line(first+inc, end, inc)\n",
        "\n",
        "def print_pattern_2(n, row = 1, col = 0, inc = None):\n",
        "    if row == 1:\n",
        "        inc = n\n",
        "        print_line(1,n,1)\n",
        "        return print_pattern_2(n+inc, row+1, n-1, inc)\n",
        "\n",
        "    elif row > inc:\n",
        "        return None\n",
        "\n",
        "    elif row< inc :\n",
        "        print_line((2*row)-1, n, 2**(row-1))\n",
        "        return print_pattern_2(n+inc, row+1, col-1, inc)\n",
        "\n",
        "    elif row == inc:\n",
        "        print_line((2*row)-1, (2*row)-1, 1)\n",
        "\n",
        "\n",
        "#2\n",
        "print('========1========')\n",
        "n = 5\n",
        "print_pattern_2(n)\n",
        "print('========2========')\n",
        "n = 6\n",
        "print_pattern_2(n)\n"
      ],
      "metadata": {
        "id": "uvbbPe8xhe-r",
        "colab": {
          "base_uri": "https://localhost:8080/"
        },
        "outputId": "e3e82e5c-a3bb-49a4-d720-b593bd4e4bc8"
      },
      "execution_count": null,
      "outputs": [
        {
          "output_type": "stream",
          "name": "stdout",
          "text": [
            "========1========\n",
            "1 2 3 4 5 \n",
            "3 5 7 9 \n",
            "5 9 13 \n",
            "7 15 \n",
            "9 \n",
            "========2========\n",
            "1 2 3 4 5 6 \n",
            "3 5 7 9 11 \n",
            "5 9 13 17 \n",
            "7 15 23 \n",
            "9 25 \n",
            "11 \n"
          ]
        }
      ]
    },
    {
      "cell_type": "markdown",
      "source": [
        "#Very Hard"
      ],
      "metadata": {
        "id": "v-CxHGqZm9WB"
      }
    },
    {
      "cell_type": "code",
      "source": [
        "def flattenList(given_list, output_list):\n",
        "    if given_list:\n",
        "        item = given_list[0]\n",
        "        given_list = given_list[1:]\n",
        "        if type(item) == list:\n",
        "            output_list = flattenList(item, output_list)\n",
        "        else:\n",
        "            output_list.append(item)\n",
        "        return flattenList(given_list, output_list)\n",
        "    else:\n",
        "        return output_list\n",
        "\n",
        "given_list = [1, [2, [3, [4], 5], 6], 7, 8, [9, [[10, 11], 12], 13], 14, [15, [16, [17]]]]\n",
        "output_list = flattenList(given_list, []) # Initial empty list is sent for update\n",
        "print(output_list)\n",
        "#output_list = [1, 2, 3, 4, 5, 6, 7, 8, 9, 10, 11, 12, 13, 14, 15, 16, 17]"
      ],
      "metadata": {
        "colab": {
          "base_uri": "https://localhost:8080/"
        },
        "id": "FgMZB3E4W9_R",
        "outputId": "4192589c-3072-43cb-d2aa-965c219441bc"
      },
      "execution_count": null,
      "outputs": [
        {
          "output_type": "stream",
          "name": "stdout",
          "text": [
            "[1, 2, 3, 4, 5, 6, 7, 8, 9, 10, 11, 12, 13, 14, 15, 16, 17]\n"
          ]
        }
      ]
    }
  ]
}